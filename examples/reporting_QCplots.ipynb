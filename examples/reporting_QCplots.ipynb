{
 "cells": [
  {
   "cell_type": "code",
   "execution_count": null,
   "id": "c88bc71b",
   "metadata": {},
   "outputs": [],
   "source": [
    "import qcreports"
   ]
  },
  {
   "cell_type": "code",
   "execution_count": null,
   "id": "c2bf8190",
   "metadata": {},
   "outputs": [],
   "source": [
    "%load_ext autoreload\n",
    "%autoreload 2\n",
    "#%matplotlib widget"
   ]
  },
  {
   "cell_type": "code",
   "execution_count": null,
   "id": "699a4674",
   "metadata": {},
   "outputs": [],
   "source": [
    "tags = ['test9',\n",
    "#        'reference_2024-Q4',\n",
    "        'reference_2025-Q1',\n",
    "        'wy=1991',\n",
    "        'gas_price=reference',\n",
    "        'CO2_price=reference',\n",
    "        'demand=reference',]\n",
    "\n",
    "zones = [\"FI\", \"SE1\", \"SE2\", \"SE3\", \"SE4\"]\n",
    "years = [2025, 2030, 2035]\n"
   ]
  },
  {
   "cell_type": "code",
   "execution_count": null,
   "id": "dfeac468",
   "metadata": {},
   "outputs": [],
   "source": [
    "worksheets = qcreports.report_definition.report_1wy_xmy.get_worksheets(tags)\n",
    "qcreports.io.make_report_data(worksheets)\n"
   ]
  },
  {
   "cell_type": "code",
   "execution_count": null,
   "id": "65cff0ef",
   "metadata": {},
   "outputs": [],
   "source": [
    "qcreports.io.focus_report_data(zones)\n"
   ]
  },
  {
   "cell_type": "code",
   "execution_count": null,
   "id": "d40e933f",
   "metadata": {},
   "outputs": [],
   "source": [
    "qcreports.io.generate_QCplots()\n"
   ]
  },
  {
   "cell_type": "code",
   "execution_count": null,
   "id": "75ef5e6b",
   "metadata": {},
   "outputs": [],
   "source": [
    "qcreports.io.generate_QCplots(\n",
    "    input_file_name=\"report_data_focus.xlsx\", output_file_name=\"report_focus.xlsx\"\n",
    ")\n"
   ]
  },
  {
   "cell_type": "code",
   "execution_count": null,
   "id": "c46863a7",
   "metadata": {},
   "outputs": [],
   "source": [
    "qcreports.io.generate_QCmaps()\n"
   ]
  },
  {
   "cell_type": "code",
   "execution_count": null,
   "id": "6c905327",
   "metadata": {},
   "outputs": [],
   "source": [
    "qcreports.io.generate_QCmaps(zones=zones,\n",
    "    years=years, input_file_name=\"report_data.xlsx\", output_file_name=\"report_focus.png\",\n",
    ")"
   ]
  },
  {
   "cell_type": "code",
   "execution_count": null,
   "id": "6f12826f",
   "metadata": {},
   "outputs": [],
   "source": [
    "qcreports.io.generate_report_1wy(tags, years)"
   ]
  },
  {
   "cell_type": "code",
   "execution_count": null,
   "id": "5a1d8259",
   "metadata": {},
   "outputs": [],
   "source": []
  }
 ],
 "metadata": {
  "kernelspec": {
   "display_name": ".venv",
   "language": "python",
   "name": "python3"
  },
  "language_info": {
   "codemirror_mode": {
    "name": "ipython",
    "version": 3
   },
   "file_extension": ".py",
   "mimetype": "text/x-python",
   "name": "python",
   "nbconvert_exporter": "python",
   "pygments_lexer": "ipython3",
   "version": "3.12.8"
  }
 },
 "nbformat": 4,
 "nbformat_minor": 5
}
