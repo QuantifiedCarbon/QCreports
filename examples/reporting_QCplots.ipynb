{
 "cells": [
  {
   "cell_type": "code",
   "execution_count": null,
   "id": "c2bf8190",
   "metadata": {},
   "outputs": [],
   "source": [
    "%load_ext autoreload\n",
    "%autoreload 2\n",
    "#%matplotlib widget"
   ]
  },
  {
   "cell_type": "code",
   "execution_count": null,
   "id": "c88bc71b",
   "metadata": {},
   "outputs": [],
   "source": [
    "import sys\n",
    "import os\n",
    "repo_path = \"~/repo/QCreports\"\n",
    "repo_path = os.path.expanduser(repo_path)\n",
    "sys.path.append(repo_path)\n",
    "import QCreports as qcr\n"
   ]
  },
  {
   "cell_type": "code",
   "execution_count": null,
   "id": "699a4674",
   "metadata": {},
   "outputs": [],
   "source": [
    "tags = ['test9',\n",
    "#        'reference_2024-Q4',\n",
    "        'reference_2025-Q1',\n",
    "        'wy=1991',\n",
    "        'gas_price=reference',\n",
    "        'CO2_price=reference',\n",
    "        'demand=reference',]\n",
    "\n",
    "zones = [\"FI\", \"SE1\", \"SE2\", \"SE3\", \"SE4\"]\n",
    "years = [2025, 2030, 2035]\n"
   ]
  },
  {
   "cell_type": "code",
   "execution_count": null,
   "id": "75fb234a",
   "metadata": {},
   "outputs": [],
   "source": [
    "#import cgriddb\n",
    "#ids = cgriddb.get_jobid(comment=tags)\n",
    "#root = cgriddb.get_result_dict(ids[0])\n",
    "#root.resources\n",
    "#comments = cgriddb.get_comments(ids)\n",
    "#comments"
   ]
  },
  {
   "cell_type": "code",
   "execution_count": null,
   "id": "dfeac468",
   "metadata": {},
   "outputs": [],
   "source": [
    "worksheets = qcr.generate_worksheets.report_definition_1wy(tags)\n",
    "qcr.io.make_report_data(worksheets)\n"
   ]
  },
  {
   "cell_type": "code",
   "execution_count": null,
   "id": "65cff0ef",
   "metadata": {},
   "outputs": [],
   "source": [
    "qcr.io.focus_report_data(zones)\n"
   ]
  },
  {
   "cell_type": "code",
   "execution_count": null,
   "id": "d40e933f",
   "metadata": {},
   "outputs": [],
   "source": [
    "qcr.io.generate_QCplots()\n"
   ]
  },
  {
   "cell_type": "code",
   "execution_count": null,
   "id": "75ef5e6b",
   "metadata": {},
   "outputs": [],
   "source": [
    "qcr.io.generate_QCplots(input_file_name=\"report_data_focus.xlsx\", output_file_name=\"report_focus.xlsx\")\n"
   ]
  },
  {
   "cell_type": "code",
   "execution_count": null,
   "id": "c46863a7",
   "metadata": {},
   "outputs": [],
   "source": [
    "qcr.io.generate_QCmaps(years)\n"
   ]
  },
  {
   "cell_type": "code",
   "execution_count": null,
   "id": "6c905327",
   "metadata": {},
   "outputs": [],
   "source": [
    "qcr.io.generate_QCmaps(years, input_file_name=\"report_data.xlsx\", output_file_name=\"report_focus.png\")"
   ]
  },
  {
   "cell_type": "code",
   "execution_count": null,
   "id": "6f12826f",
   "metadata": {},
   "outputs": [],
   "source": [
    "qcr.io.generate_report_1wy(tags, years)\n"
   ]
  }
 ],
 "metadata": {
  "kernelspec": {
   "display_name": "QC312",
   "language": "python",
   "name": "python3"
  },
  "language_info": {
   "codemirror_mode": {
    "name": "ipython",
    "version": 3
   },
   "file_extension": ".py",
   "mimetype": "text/x-python",
   "name": "python",
   "nbconvert_exporter": "python",
   "pygments_lexer": "ipython3",
   "version": "3.12.3"
  }
 },
 "nbformat": 4,
 "nbformat_minor": 5
}
