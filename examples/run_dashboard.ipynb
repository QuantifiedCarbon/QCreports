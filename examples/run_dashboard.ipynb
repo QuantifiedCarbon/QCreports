{
 "cells": [
  {
   "cell_type": "code",
   "execution_count": 52,
   "id": "0",
   "metadata": {},
   "outputs": [],
   "source": [
    "import qcreports"
   ]
  },
  {
   "cell_type": "code",
   "execution_count": 53,
   "id": "1",
   "metadata": {},
   "outputs": [
    {
     "name": "stdout",
     "output_type": "stream",
     "text": [
      "The autoreload extension is already loaded. To reload it, use:\n",
      "  %reload_ext autoreload\n"
     ]
    }
   ],
   "source": [
    "%load_ext autoreload\n",
    "%autoreload 2\n",
    "#%matplotlib widget"
   ]
  },
  {
   "cell_type": "code",
   "execution_count": 54,
   "id": "8cc96d7f",
   "metadata": {},
   "outputs": [],
   "source": [
    "import pandas as pd\n"
   ]
  },
  {
   "cell_type": "code",
   "execution_count": null,
   "id": "c6607fff",
   "metadata": {},
   "outputs": [],
   "source": [
    "root_dir = \"output_samples\"\n",
    "file = pd.DataFrame()\n",
    "\n",
    "# chose one to compare\n",
    "compare = \"historic\"\n",
    "#compare = \"one_weather_year\"\n",
    "#compare = \"statistics\"\n",
    "\n",
    "if compare == \"historic\":\n",
    "    file[\"historic\"] = [f\"{root_dir}/historic/report_data_historic_QCplots.xlsx\"]\n",
    "    file[\"simulated\"] = [f\"{root_dir}/report_1wy_xmy_2025Q2/report_data_1wy_xmy_QCplots.xlsx\"]\n",
    "if compare == \"one_weather_year\":\n",
    "    file[\"Q1\"] = [f\"{root_dir}/report_1wy_xmy_2025Q1/report_data_1wy_xmy_QCplots.xlsx\"]\n",
    "    file[\"Q2\"] = [f\"{root_dir}/report_1wy_xmy_2025Q2/report_data_1wy_xmy_QCplots.xlsx\"]\n",
    "if compare == \"statistics\":\n",
    "    file[\"Q1\"] = [f\"{root_dir}/report_xwy_xmy_2025Q1/report_data_xwy_xmy_QCplots.xlsx\"]\n",
    "    file[\"Q2\"] = [f\"{root_dir}/report_xwy_xmy_2025Q2/report_data_xwy_xmy_QCplots.xlsx\"]\n"
   ]
  },
  {
   "cell_type": "code",
   "execution_count": 56,
   "id": "6029a3de",
   "metadata": {},
   "outputs": [
    {
     "name": "stdout",
     "output_type": "stream",
     "text": [
      "Index(['battery', 'solar', 'wind_onshore', 'wind_onshore_existing', 'hydro',\n",
      "       'bio', 'gas', 'coal_hard', 'nuclear', 'nuclear_existing'],\n",
      "      dtype='object')\n",
      "The bake_resources function has been called more than once. This is likely a misuse of the library. QCcolours version: [QCcolours:1.1.4]\n",
      "Resources ['wind_onshore_existing'] not found in resource list, appending to end of list\n",
      "Resources ['coal_hard'] not found in resource list, appending to end of list\n",
      "Resources ['nuclear_existing'] not found in resource list, appending to end of list\n"
     ]
    }
   ],
   "source": [
    "import QCcolours\n",
    "sheet_name = \"generation_capacity_FI\"\n",
    "#df = pd.read_excel(f\"{root_dir}/report_1wy_xmy_2025Q1/report_data_1wy_xmy_QCplots.xlsx\", sheet_name=sheet_name, engine='openpyxl')\n",
    "df = pd.read_excel(f\"{root_dir}/report_1wy_xmy_2025Q2/report_data_1wy_xmy_QCplots.xlsx\", sheet_name=sheet_name, engine='openpyxl')\n",
    "columns = df.columns[1:]\n",
    "print(columns)\n",
    "colour_dict = QCcolours.bake_resources(columns)\n"
   ]
  },
  {
   "cell_type": "code",
   "execution_count": null,
   "id": "10",
   "metadata": {},
   "outputs": [
    {
     "name": "stdout",
     "output_type": "stream",
     "text": [
      "The bake_resources function has been called more than once. This is likely a misuse of the library. QCcolours version: [QCcolours:1.1.4]\n",
      "Resources ['oilshale'] not found in resource list, appending to end of list\n"
     ]
    },
    {
     "data": {
      "application/vnd.jupyter.widget-view+json": {
       "model_id": "5916ca3c67f2492cac7132cfc8aaa083",
       "version_major": 2,
       "version_minor": 0
      },
      "text/plain": [
       "VBox(children=(HBox(children=(Dropdown(description='Parameter:', layout=Layout(width='300px'), options=('balan…"
      ]
     },
     "execution_count": 57,
     "metadata": {},
     "output_type": "execute_result"
    }
   ],
   "source": [
    "qcreports.plot.dashboard(file)\n"
   ]
  }
 ],
 "metadata": {
  "kernelspec": {
   "display_name": "QC_env",
   "language": "python",
   "name": "python3"
  },
  "language_info": {
   "codemirror_mode": {
    "name": "ipython",
    "version": 3
   },
   "file_extension": ".py",
   "mimetype": "text/x-python",
   "name": "python",
   "nbconvert_exporter": "python",
   "pygments_lexer": "ipython3",
   "version": "3.12.9"
  }
 },
 "nbformat": 4,
 "nbformat_minor": 5
}
