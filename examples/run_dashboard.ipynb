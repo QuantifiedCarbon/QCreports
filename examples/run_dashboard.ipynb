{
 "cells": [
  {
   "cell_type": "code",
   "execution_count": 1,
   "id": "0",
   "metadata": {},
   "outputs": [],
   "source": [
    "import qcreports"
   ]
  },
  {
   "cell_type": "code",
   "execution_count": 2,
   "id": "1",
   "metadata": {},
   "outputs": [],
   "source": [
    "%load_ext autoreload\n",
    "%autoreload 2\n",
    "#%matplotlib widget"
   ]
  },
  {
   "cell_type": "code",
   "execution_count": 3,
   "id": "8cc96d7f",
   "metadata": {},
   "outputs": [],
   "source": [
    "import pandas as pd\n"
   ]
  },
  {
   "cell_type": "code",
   "execution_count": 4,
   "id": "c6607fff",
   "metadata": {},
   "outputs": [],
   "source": [
    "root_dir = \"output_samples\"\n",
    "file = pd.DataFrame()\n",
    "\n",
    "# chose one to compare\n",
    "#compare = \"historic\"\n",
    "compare = \"one_weather_year\"\n",
    "#compare = \"statistics\"\n",
    "\n",
    "if compare == \"historic\":\n",
    "    file[\"historic\"] = [f\"{root_dir}/historic/report_data_historic_QCplots.xlsx\"]\n",
    "    file[\"simulated\"] = [f\"{root_dir}/report_1wy_xmy_2025Q2/report_data_1wy_xmy_QCplots.xlsx\"]\n",
    "if compare == \"one_weather_year\":\n",
    "    file[\"Q1\"] = [f\"{root_dir}/report_1wy_xmy_2025Q1/report_data_1wy_xmy_QCplots.xlsx\"]\n",
    "    file[\"Q2\"] = [f\"{root_dir}/report_1wy_xmy_2025Q2/report_data_1wy_xmy_QCplots.xlsx\"]\n",
    "if compare == \"statistics\":\n",
    "    file[\"Q1\"] = [f\"{root_dir}/report_xwy_xmy_2025Q1/report_data_xwy_xmy_QCplots.xlsx\"]\n",
    "    file[\"Q2\"] = [f\"{root_dir}/report_xwy_xmy_2025Q2/report_data_xwy_xmy_QCplots.xlsx\"]\n"
   ]
  },
  {
   "cell_type": "code",
   "execution_count": 5,
   "id": "10",
   "metadata": {},
   "outputs": [
    {
     "name": "stdout",
     "output_type": "stream",
     "text": [
      "Resources ['oilshale'] not found in resource list, appending to end of list\n"
     ]
    },
    {
     "data": {
      "application/vnd.jupyter.widget-view+json": {
       "model_id": "053b2099d73f415882e1639ba24588a4",
       "version_major": 2,
       "version_minor": 0
      },
      "text/plain": [
       "VBox(children=(HBox(children=(Dropdown(description='Parameter:', layout=Layout(width='300px'), options=('balan…"
      ]
     },
     "execution_count": 5,
     "metadata": {},
     "output_type": "execute_result"
    }
   ],
   "source": [
    "qcreports.plot.dashboard(file)\n"
   ]
  }
 ],
 "metadata": {
  "kernelspec": {
   "display_name": "QC_env",
   "language": "python",
   "name": "python3"
  },
  "language_info": {
   "codemirror_mode": {
    "name": "ipython",
    "version": 3
   },
   "file_extension": ".py",
   "mimetype": "text/x-python",
   "name": "python",
   "nbconvert_exporter": "python",
   "pygments_lexer": "ipython3",
   "version": "3.12.9"
  }
 },
 "nbformat": 4,
 "nbformat_minor": 5
}
