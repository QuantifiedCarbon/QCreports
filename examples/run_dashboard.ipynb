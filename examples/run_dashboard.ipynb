{
 "cells": [
  {
   "cell_type": "code",
   "execution_count": 11,
   "id": "8cc96d7f",
   "metadata": {},
   "outputs": [],
   "source": [
    "import pandas as pd\n",
    "import dashboard"
   ]
  },
  {
   "cell_type": "code",
   "execution_count": 12,
   "id": "c6607fff",
   "metadata": {},
   "outputs": [],
   "source": [
    "root_dir = \"output_samples\"\n",
    "file = pd.DataFrame()\n",
    "\n",
    "# chose one to compare\n",
    "#compare = \"historic\"\n",
    "compare = \"one_weather_year\"\n",
    "#compare = \"statistics\"\n",
    "\n",
    "if compare == \"historic\":\n",
    "    file[\"historic\"] = [f\"{root_dir}/historic/report_data_historic_QCplots.xlsx\"]\n",
    "    file[\"simulated\"] = [f\"{root_dir}/report_1wy_xmy_2025Q2/report_data_1wy_xmy_QCplots.xlsx\"]\n",
    "if compare == \"one_weather_year\":\n",
    "    file[\"Q1\"] = [f\"{root_dir}/report_1wy_xmy_2025Q1/report_data_1wy_xmy_QCplots.xlsx\"]\n",
    "    file[\"Q2\"] = [f\"{root_dir}/report_1wy_xmy_2025Q2/report_data_1wy_xmy_QCplots.xlsx\"]\n",
    "if compare == \"statistics\":\n",
    "    file[\"Q1\"] = [f\"{root_dir}/report_xwy_xmy_2025Q1/report_data_xwy_xmy_QCplots.xlsx\"]\n",
    "    file[\"Q2\"] = [f\"{root_dir}/report_xwy_xmy_2025Q2/report_data_xwy_xmy_QCplots.xlsx\"]\n"
   ]
  },
  {
   "cell_type": "code",
   "execution_count": 13,
   "id": "10",
   "metadata": {},
   "outputs": [
    {
     "name": "stdout",
     "output_type": "stream",
     "text": [
      "Resources ['oilshale'] not found in resource list, appending to end of list\n"
     ]
    },
    {
     "data": {
      "application/vnd.jupyter.widget-view+json": {
       "model_id": "28382366c89e49bcb8056ed6066eafad",
       "version_major": 2,
       "version_minor": 0
      },
      "text/plain": [
       "VBox(children=(HBox(children=(Dropdown(description='Parameter:', layout=Layout(width='300px'), options=('balan…"
      ]
     },
     "execution_count": 13,
     "metadata": {},
     "output_type": "execute_result"
    }
   ],
   "source": [
    "dashboard.generate(file)\n"
   ]
  }
 ],
 "metadata": {
  "kernelspec": {
   "display_name": "QC_env",
   "language": "python",
   "name": "python3"
  },
  "language_info": {
   "codemirror_mode": {
    "name": "ipython",
    "version": 3
   },
   "file_extension": ".py",
   "mimetype": "text/x-python",
   "name": "python",
   "nbconvert_exporter": "python",
   "pygments_lexer": "ipython3",
   "version": "3.12.9"
  }
 },
 "nbformat": 4,
 "nbformat_minor": 5
}
